{
 "cells": [
  {
   "cell_type": "code",
   "execution_count": null,
   "id": "49ef7f1b-be12-43e8-b2bf-9221ab5a25f9",
   "metadata": {
    "tags": []
   },
   "outputs": [],
   "source": [
    "import pandas as pd\n",
    "import numpy as np"
   ]
  },
  {
   "cell_type": "code",
   "execution_count": null,
   "id": "16585651-60f8-4a27-8790-67e94500f58c",
   "metadata": {
    "tags": []
   },
   "outputs": [],
   "source": [
    "# Question 1 pandas version\n",
    "pd.__version__"
   ]
  },
  {
   "cell_type": "code",
   "execution_count": null,
   "id": "09484973-acb1-4445-9123-d7f1ed5101c9",
   "metadata": {
    "tags": []
   },
   "outputs": [],
   "source": [
    "df = pd.read_csv('./data/housing.csv')"
   ]
  },
  {
   "cell_type": "code",
   "execution_count": null,
   "id": "604fbefe-7d30-4d43-a6b0-4cfa6c0bef85",
   "metadata": {
    "tags": []
   },
   "outputs": [],
   "source": [
    "# Question 2 number of columns\n",
    "print(df.shape[1])"
   ]
  },
  {
   "cell_type": "code",
   "execution_count": null,
   "id": "c67e3250-e915-4756-90fb-80f4cdaebecd",
   "metadata": {
    "tags": []
   },
   "outputs": [],
   "source": [
    "# Question 3 columns with missing data\n",
    "\n",
    "df.isna().sum()"
   ]
  },
  {
   "cell_type": "code",
   "execution_count": null,
   "id": "06c05b7c-8637-4237-bbba-b4e725b8c45f",
   "metadata": {
    "tags": []
   },
   "outputs": [],
   "source": [
    "# question 4 nunique for ocean_prox column\n",
    "(\n",
    "    df\n",
    "    .nunique()\n",
    ")"
   ]
  },
  {
   "cell_type": "code",
   "execution_count": null,
   "id": "61beeba5-5704-44c9-a421-c0fd481ca6cb",
   "metadata": {
    "tags": []
   },
   "outputs": [],
   "source": [
    "# question 5 average of median house value\n",
    "\n",
    "(\n",
    "    df\n",
    "    .query(\"ocean_proximity == 'NEAR BAY'\")\n",
    "    .select_dtypes('number')\n",
    "    .mean()\n",
    ")"
   ]
  },
  {
   "cell_type": "code",
   "execution_count": null,
   "id": "c08f2613-cb7f-426d-b960-1d695f5ea642",
   "metadata": {
    "tags": []
   },
   "outputs": [],
   "source": [
    "#Question 6 average of mean bedrooms and fillna with the mean and recalculate\n",
    "(\n",
    "    df\n",
    "    .loc[:,'total_bedrooms']\n",
    "    .mean()\n",
    ")"
   ]
  },
  {
   "cell_type": "code",
   "execution_count": null,
   "id": "320b65d9-6afa-4662-8a03-ea9fe28f7760",
   "metadata": {
    "tags": []
   },
   "outputs": [],
   "source": [
    "(\n",
    "    df\n",
    "    .loc[:,'total_bedrooms']\n",
    "    .fillna(\n",
    "        df\n",
    "        .loc[:,'total_bedrooms']\n",
    "        .mean()\n",
    "    )\n",
    "    .mean()\n",
    ")"
   ]
  },
  {
   "cell_type": "markdown",
   "id": "c2c6b457-691e-4691-bf9b-a719352e95b8",
   "metadata": {},
   "source": [
    "# Question 7\n",
    "Select all the options located on islands.  \n",
    "Select only columns housing_median_age, total_rooms, total_bedrooms.  \n",
    "Get the underlying NumPy array. Let's call it X.  \n",
    "Compute matrix-matrix multiplication between the transpose of X and X. To get the transpose, use X.T. Let's call the result XTX.  \n",
    "Compute the inverse of XTX.  \n",
    "Create an array y with values [950, 1300, 800, 1000, 1300].  \n",
    "Multiply the inverse of XTX with the transpose of X, and then multiply the result by y. Call the result w.  \n",
    "What's the value of the last element of w?  "
   ]
  },
  {
   "cell_type": "code",
   "execution_count": null,
   "id": "2e6e7181-4104-43d0-a32d-05dea678e390",
   "metadata": {
    "tags": []
   },
   "outputs": [],
   "source": [
    "(\n",
    "    df\n",
    "    .ocean_proximity\n",
    "    .unique()\n",
    ")"
   ]
  },
  {
   "cell_type": "code",
   "execution_count": null,
   "id": "2dd161d4-337b-4e8e-9193-b0a26f5dd3e6",
   "metadata": {
    "tags": []
   },
   "outputs": [],
   "source": [
    "X = (\n",
    "    df\n",
    "    .query(\"ocean_proximity == 'ISLAND'\")\n",
    "    .loc[:,['housing_median_age','total_rooms','total_bedrooms']]\n",
    "    .values\n",
    ")"
   ]
  },
  {
   "cell_type": "code",
   "execution_count": null,
   "id": "5830ae1c-0436-4827-a6ab-42cc3e81f159",
   "metadata": {
    "tags": []
   },
   "outputs": [],
   "source": [
    "XTX = np.matmul(X.T, X)"
   ]
  },
  {
   "cell_type": "code",
   "execution_count": null,
   "id": "1f0f5cc0-0bf3-4158-95aa-a2ceb5d8c403",
   "metadata": {
    "tags": []
   },
   "outputs": [],
   "source": [
    "XTX_inv = np.linalg.inv(XTX)"
   ]
  },
  {
   "cell_type": "code",
   "execution_count": null,
   "id": "09cdeb96-065c-4755-aedc-209f575543ff",
   "metadata": {
    "tags": []
   },
   "outputs": [],
   "source": [
    "y = np.array([950, 1300, 800, 1000, 1300])"
   ]
  },
  {
   "cell_type": "code",
   "execution_count": null,
   "id": "41755415-cb6f-4b9a-82fa-8b5a30eecd3b",
   "metadata": {
    "tags": []
   },
   "outputs": [],
   "source": [
    "w = np.matmul(np.matmul(XTX_inv, X.T), y)"
   ]
  },
  {
   "cell_type": "code",
   "execution_count": null,
   "id": "fbd36f84-eb47-4a8c-9ab5-921bd36017e8",
   "metadata": {
    "tags": []
   },
   "outputs": [],
   "source": [
    "w[-1]"
   ]
  }
 ],
 "metadata": {
  "kernelspec": {
   "display_name": "Python 3 (ipykernel)",
   "language": "python",
   "name": "python3"
  },
  "language_info": {
   "codemirror_mode": {
    "name": "ipython",
    "version": 3
   },
   "file_extension": ".py",
   "mimetype": "text/x-python",
   "name": "python",
   "nbconvert_exporter": "python",
   "pygments_lexer": "ipython3",
   "version": "3.9.15"
  }
 },
 "nbformat": 4,
 "nbformat_minor": 5
}
